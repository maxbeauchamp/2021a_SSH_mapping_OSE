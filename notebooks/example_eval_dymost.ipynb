{
 "cells": [
  {
   "cell_type": "markdown",
   "source": [
    "# Evaluation Dynamic Interpolation (DYMOST): \n",
    "\n",
    "This notebook presents the evaluation of the SSH reconstructions based on the Dynamic Interpolation method ([Ballarotta et al., 2020](https://journals.ametsoc.org/view/journals/atot/37/9/jtechD200030.xml)) and performed for the **\"2021a_SSH_mapping_OSE\" ocean data challenge**. "
   ],
   "metadata": {}
  },
  {
   "cell_type": "code",
   "execution_count": null,
   "source": [
    "import os\r\n",
    "import sys\r\n",
    "sys.path.append('..')\r\n",
    "import logging\r\n",
    "import pandas as pd"
   ],
   "outputs": [],
   "metadata": {}
  },
  {
   "cell_type": "code",
   "execution_count": null,
   "source": [
    "from src.mod_inout import *\r\n",
    "from src.mod_interp import *\r\n",
    "from src.mod_stats import *\r\n",
    "from src.mod_spectral import *\r\n",
    "from src.mod_plot import *"
   ],
   "outputs": [],
   "metadata": {}
  },
  {
   "cell_type": "code",
   "execution_count": null,
   "source": [
    "logger = logging.getLogger()\r\n",
    "logger.setLevel(logging.INFO)"
   ],
   "outputs": [],
   "metadata": {}
  },
  {
   "cell_type": "markdown",
   "source": [
    "### Study Area & Ouput Parameters"
   ],
   "metadata": {}
  },
  {
   "cell_type": "code",
   "execution_count": null,
   "source": [
    "# study area\r\n",
    "lon_min = 295.\r\n",
    "lon_max = 305.\r\n",
    "lat_min = 33.\r\n",
    "lat_max = 43.\r\n",
    "is_circle = False\r\n",
    "time_min = '2017-01-01'\r\n",
    "time_max = '2017-12-31'\r\n",
    "\r\n",
    "# Outputs\r\n",
    "bin_lat_step = 1.\r\n",
    "bin_lon_step = 1.\r\n",
    "bin_time_step = '1D'\r\n",
    "output_directory = '../results'\r\n",
    "os.mkdir(output_directory)\r\n",
    "output_filename = f'{output_directory}/stat_OSE_DYMOST_{time_min}_{time_max}_{lon_min}_{lon_max}_{lat_min}_{lat_max}.nc'\r\n",
    "output_filename_timeseries = f'{output_directory}/stat_timeseries_OSE_DYMOST_{time_min}_{time_max}_{lon_min}_{lon_max}_{lat_min}_{lat_max}.nc'\r\n",
    "\r\n",
    "# Spectral parameter\r\n",
    "# C2 parameter\r\n",
    "delta_t = 0.9434  # s\r\n",
    "velocity = 6.77   # km/s\r\n",
    "delta_x = velocity * delta_t\r\n",
    "lenght_scale = 1000 # km\r\n",
    "output_filename_spectrum = f'{output_directory}/psd_OSE_DYMOST_{time_min}_{time_max}_{lon_min}_{lon_max}_{lat_min}_{lat_max}.nc'"
   ],
   "outputs": [],
   "metadata": {}
  },
  {
   "cell_type": "markdown",
   "source": [
    "### Open your AVISO+ session: fill the ```<AVISO_LOGIN>``` and ```<AVISO_PWD>``` items below"
   ],
   "metadata": {}
  },
  {
   "cell_type": "code",
   "execution_count": null,
   "source": [
    "my_aviso_session = rq.Session()\r\n",
    "my_aviso_session.auth = (\"<AVISO_LOGIN>\", \"<AVISO_PWD>\")\r\n",
    "url_alongtrack = 'https://tds.aviso.altimetry.fr/thredds/dodsC/2021a-SSH-mapping-OSE-along-track-data'\r\n",
    "url_map = 'https://tds.aviso.altimetry.fr/thredds/dodsC/2021a-SSH-mapping-OSE-grid-data'"
   ],
   "outputs": [],
   "metadata": {}
  },
  {
   "cell_type": "markdown",
   "source": [
    "### Read L3 datasets"
   ],
   "metadata": {}
  },
  {
   "cell_type": "code",
   "execution_count": null,
   "source": [
    "# independent along-track\r\n",
    "alontrack_independent_dataset = f'{url_alongtrack}/dt_gulfstream_c2_phy_l3_20161201-20180131_285-315_23-53.nc'\r\n",
    "# Read along-track\r\n",
    "ds_alongtrack = read_l3_dataset_from_aviso(alontrack_independent_dataset, \r\n",
    "                                           my_aviso_session, \r\n",
    "                                           lon_min=lon_min, \r\n",
    "                                           lon_max=lon_max, \r\n",
    "                                           lat_min=lat_min, \r\n",
    "                                           lat_max=lat_max, \r\n",
    "                                           time_min=time_min, \r\n",
    "                                           time_max=time_max)\r\n",
    "ds_alongtrack"
   ],
   "outputs": [],
   "metadata": {}
  },
  {
   "cell_type": "markdown",
   "source": [
    "### Read L4 dataset and interpolate onto along-track positions"
   ],
   "metadata": {}
  },
  {
   "cell_type": "code",
   "execution_count": null,
   "source": [
    "# series of maps to evaluate\r\n",
    "gridded_dataset = [f'{url_map}/OSE_ssh_mapping_DYMOST.nc', my_aviso_session]\r\n",
    "# Interpolate maps onto alongtrack dataset\r\n",
    "time_alongtrack, lat_alongtrack, lon_alongtrack, ssh_alongtrack, ssh_map_interp = interp_on_alongtrack(gridded_dataset, \r\n",
    "                                                                                                       ds_alongtrack,\r\n",
    "                                                                                                       lon_min=lon_min, \r\n",
    "                                                                                                       lon_max=lon_max, \r\n",
    "                                                                                                       lat_min=lat_min, \r\n",
    "                                                                                                       lat_max=lat_max, \r\n",
    "                                                                                                       time_min=time_min, \r\n",
    "                                                                                                       time_max=time_max,\r\n",
    "                                                                                                       is_circle=is_circle)"
   ],
   "outputs": [],
   "metadata": {}
  },
  {
   "cell_type": "markdown",
   "source": [
    "### Compute statistical score"
   ],
   "metadata": {}
  },
  {
   "cell_type": "code",
   "execution_count": null,
   "source": [
    "leaderboard_nrmse, leaderboard_nrmse_std = compute_stats(time_alongtrack, \r\n",
    "                                                         lat_alongtrack, \r\n",
    "                                                         lon_alongtrack, \r\n",
    "                                                         ssh_alongtrack, \r\n",
    "                                                         ssh_map_interp, \r\n",
    "                                                         bin_lon_step,\r\n",
    "                                                         bin_lat_step, \r\n",
    "                                                         bin_time_step,\r\n",
    "                                                         output_filename,\r\n",
    "                                                         output_filename_timeseries)"
   ],
   "outputs": [],
   "metadata": {}
  },
  {
   "cell_type": "code",
   "execution_count": null,
   "source": [
    "plot_spatial_statistics(output_filename)"
   ],
   "outputs": [],
   "metadata": {}
  },
  {
   "cell_type": "code",
   "execution_count": null,
   "source": [
    "plot_temporal_statistics(output_filename_timeseries)"
   ],
   "outputs": [],
   "metadata": {}
  },
  {
   "cell_type": "markdown",
   "source": [
    "### Compute spectral scores"
   ],
   "metadata": {}
  },
  {
   "cell_type": "code",
   "execution_count": null,
   "source": [
    "compute_spectral_scores(time_alongtrack, \n",
    "                        lat_alongtrack, \n",
    "                        lon_alongtrack, \n",
    "                        ssh_alongtrack, \n",
    "                        ssh_map_interp, \n",
    "                        lenght_scale,\n",
    "                        delta_x,\n",
    "                        delta_t,\n",
    "                        output_filename_spectrum)"
   ],
   "outputs": [],
   "metadata": {}
  },
  {
   "cell_type": "code",
   "execution_count": null,
   "source": [
    "leaderboard_psds_score = plot_psd_score(output_filename_spectrum)"
   ],
   "outputs": [],
   "metadata": {}
  },
  {
   "cell_type": "code",
   "execution_count": null,
   "source": [],
   "outputs": [],
   "metadata": {}
  },
  {
   "cell_type": "code",
   "execution_count": null,
   "source": [
    "# Print leaderboard\n",
    "data = [['DYMOST', \n",
    "         leaderboard_nrmse, \n",
    "         leaderboard_nrmse_std, \n",
    "         int(leaderboard_psds_score),\n",
    "        'Dynamic mapping',\n",
    "        'example_eval_dymost.ipynb']]\n",
    "Leaderboard = pd.DataFrame(data, \n",
    "                           columns=['Method', \n",
    "                                    \"µ(RMSE) \", \n",
    "                                    \"σ(RMSE)\", \n",
    "                                    'λx (km)',  \n",
    "                                    'Notes',\n",
    "                                    'Reference'])\n",
    "print(\"Summary of the leaderboard metrics:\")\n",
    "Leaderboard\n",
    "print(Leaderboard.to_markdown())"
   ],
   "outputs": [],
   "metadata": {}
  },
  {
   "cell_type": "code",
   "execution_count": null,
   "source": [],
   "outputs": [],
   "metadata": {}
  },
  {
   "cell_type": "code",
   "execution_count": null,
   "source": [],
   "outputs": [],
   "metadata": {}
  },
  {
   "cell_type": "code",
   "execution_count": null,
   "source": [],
   "outputs": [],
   "metadata": {}
  }
 ],
 "metadata": {
  "kernelspec": {
   "display_name": "conda_env",
   "language": "python",
   "name": "conda_env"
  },
  "language_info": {
   "codemirror_mode": {
    "name": "ipython",
    "version": 3
   },
   "file_extension": ".py",
   "mimetype": "text/x-python",
   "name": "python",
   "nbconvert_exporter": "python",
   "pygments_lexer": "ipython3",
   "version": "3.7.8"
  }
 },
 "nbformat": 4,
 "nbformat_minor": 4
}